{
  "nbformat": 4,
  "nbformat_minor": 0,
  "metadata": {
    "colab": {
      "name": "Celsius to Fahrenheit.ipynb",
      "version": "0.3.2",
      "provenance": [],
      "collapsed_sections": [],
      "include_colab_link": true
    },
    "kernelspec": {
      "name": "python3",
      "display_name": "Python 3"
    },
    "accelerator": "GPU"
  },
  "cells": [
    {
      "cell_type": "markdown",
      "metadata": {
        "id": "view-in-github",
        "colab_type": "text"
      },
      "source": [
        "<a href=\"https://colab.research.google.com/github/paulgureghian/Celsius_to_Fahrenheit/blob/master/Celsius_to_Fahrenheit.ipynb\" target=\"_parent\"><img src=\"https://colab.research.google.com/assets/colab-badge.svg\" alt=\"Open In Colab\"/></a>"
      ]
    },
    {
      "metadata": {
        "id": "4N9c_1TlDz5f",
        "colab_type": "text"
      },
      "cell_type": "markdown",
      "source": [
        "# **Created by Paul A. Gureghian in Mar 2019.** "
      ]
    },
    {
      "metadata": {
        "colab_type": "text",
        "id": "F8YVA_634OFk"
      },
      "cell_type": "markdown",
      "source": [
        "**This notebook contains a Deep Learning model in TensorFlow and Keras.**\n",
        "\n",
        "**Its purpose is to convert Celsius to Fahrenheit using this formula:**\n",
        "\n",
        "              f = c * 1.8 + 32\n",
        "\n",
        "**I will train the model on sample Celsius and Fahrenheit values.**\n",
        "\n",
        "**The goal is to tweak the model / training hyperparams to the point of the model figuring out the above formula.**\n"
      ]
    },
    {
      "metadata": {
        "colab_type": "text",
        "id": "fA93WUy1zzWf"
      },
      "cell_type": "markdown",
      "source": [
        "## Import packages\n",
        "\n",
        "And have TF only display errors.\n",
        "\n",
        "\n",
        "\n"
      ]
    },
    {
      "metadata": {
        "colab_type": "code",
        "id": "X9uIpOS2zx7k",
        "colab": {}
      },
      "cell_type": "code",
      "source": [
        "### Import packages\n",
        "import numpy as np\n",
        "\n",
        "import matplotlib.pyplot as plt\n",
        "\n",
        "import tensorflow as tf\n",
        "tf.logging.set_verbosity(tf.logging.ERROR)"
      ],
      "execution_count": 0,
      "outputs": []
    },
    {
      "metadata": {
        "colab_type": "text",
        "id": "AC3EQFi20buB"
      },
      "cell_type": "markdown",
      "source": [
        "## Set up training data\n",
        "\n",
        "Supervised Machine Learning is all about figuring out an algorithm given a set of inputs and outputs. Since the task in this notebook is to create a model that can give the temperature in Fahrenheit when given the degrees in Celsius, I will create two lists `celsius_q` and `fahrenheit_a` that I can use to train my model."
      ]
    },
    {
      "metadata": {
        "colab_type": "code",
        "id": "gg4pn6aI1vms",
        "colab": {
          "base_uri": "https://localhost:8080/",
          "height": 136
        },
        "outputId": "1e5102fd-f5c4-42c8-846a-3f9123f8d30d"
      },
      "cell_type": "code",
      "source": [
        "### Create two lists\n",
        "celsius_q = np.array([-40, -10,  0,  8, 15, 22,  38],  dtype=float)\n",
        "fahrenheit_a = np.array([-40,  14, 32, 46, 59, 72, 100],  dtype=float)\n",
        "\n",
        "for i,c in enumerate(celsius_q):\n",
        "  print(\"{} degrees Celsius = {} degrees Fahrenheit\".format(c, fahrenheit_a[i]))"
      ],
      "execution_count": 40,
      "outputs": [
        {
          "output_type": "stream",
          "text": [
            "-40.0 degrees Celsius = -40.0 degrees Fahrenheit\n",
            "-10.0 degrees Celsius = 14.0 degrees Fahrenheit\n",
            "0.0 degrees Celsius = 32.0 degrees Fahrenheit\n",
            "8.0 degrees Celsius = 46.0 degrees Fahrenheit\n",
            "15.0 degrees Celsius = 59.0 degrees Fahrenheit\n",
            "22.0 degrees Celsius = 72.0 degrees Fahrenheit\n",
            "38.0 degrees Celsius = 100.0 degrees Fahrenheit\n"
          ],
          "name": "stdout"
        }
      ]
    },
    {
      "metadata": {
        "colab_type": "text",
        "id": "VM7_9Klvq7MO"
      },
      "cell_type": "markdown",
      "source": [
        "## Create the model\n",
        "\n",
        "Now I will create the model. I will use the simplest possible model I can, a Dense network. Since the problem is straightforward, this network will require only a single layer, with a single neuron. \n",
        "\n",
        "### Build a layer\n",
        "\n",
        "I'll call the layer `l0` and create it by instantiating `tf.keras.layers.Dense` with the following configuration:\n",
        "\n",
        "*   `input_shape=[1]` — This specifies that the input to this layer is a single value. That is, the shape is a one-dimensional array with one member. Since this is the first (and only) layer, that input shape is the input shape of the entire model. The single value is a floating point number, representing degrees Celsius.\n",
        "\n",
        "*   `units=1` — This specifies the number of neurons in the layer. The number of neurons defines how many internal variables the layer has to try to learn how to solve the problem (more later). Since this is the final layer, it is also the size of the model's output — a single float value representing degrees Fahrenheit. (In a multi-layered network, the size and shape of the layer would need to match the `input_shape` of the next layer.)\n"
      ]
    },
    {
      "metadata": {
        "colab_type": "code",
        "id": "pRllo2HLfXiu",
        "colab": {}
      },
      "cell_type": "code",
      "source": [
        "### Build the model layer\n",
        "l0 = tf.keras.layers.Dense(units=1, input_shape=[1])  "
      ],
      "execution_count": 0,
      "outputs": []
    },
    {
      "metadata": {
        "colab_type": "text",
        "id": "_F00_J9duLBD"
      },
      "cell_type": "markdown",
      "source": [
        "### Assemble layers into the model\n",
        "\n",
        "Once layers are defined, they need to be assembled into a model. The Sequential model definition takes a list of layers as argument, specifying the calculation order from the input to the output.\n",
        "\n",
        "This model has just a single layer, l0."
      ]
    },
    {
      "metadata": {
        "colab_type": "code",
        "id": "cSp-GpLSuMRq",
        "colab": {
          "base_uri": "https://localhost:8080/",
          "height": 34
        },
        "outputId": "521308a3-a1d0-4ee1-9fac-b37ce29013e8"
      },
      "cell_type": "code",
      "source": [
        "### Define the model\n",
        "model = tf.keras.Sequential([l0])\n",
        "\n",
        "print(\"Model: \", model)"
      ],
      "execution_count": 42,
      "outputs": [
        {
          "output_type": "stream",
          "text": [
            "Model:  <tensorflow.python.keras.engine.sequential.Sequential object at 0x7ff45a653438>\n"
          ],
          "name": "stdout"
        }
      ]
    },
    {
      "metadata": {
        "colab_type": "text",
        "id": "kiZG7uhm8qCF"
      },
      "cell_type": "markdown",
      "source": [
        "## Compile the model, with loss and optimizer functions\n",
        "\n",
        "Before training, the model has to be compiled. When compiled for training, the model is given:\n",
        "\n",
        "- **Loss function** — A way of measuring how far off predictions are from the desired outcome. (The measured difference is called the \"loss\".\n",
        "\n",
        "- **Optimizer function** — A way of adjusting internal values in order to reduce the loss.\n"
      ]
    },
    {
      "metadata": {
        "colab_type": "code",
        "id": "m8YQN1H41L-Y",
        "colab": {
          "base_uri": "https://localhost:8080/",
          "height": 34
        },
        "outputId": "20ef6dba-c7d9-463d-b84c-dfe6ee3dc5a7"
      },
      "cell_type": "code",
      "source": [
        "### Compile the model\n",
        "model.compile(loss='mean_squared_error',\n",
        "              optimizer=tf.keras.optimizers.Adam(0.1))\n",
        "\n",
        "print(\"Model: \", model) "
      ],
      "execution_count": 43,
      "outputs": [
        {
          "output_type": "stream",
          "text": [
            "Model:  <tensorflow.python.keras.engine.sequential.Sequential object at 0x7ff45a653438>\n"
          ],
          "name": "stdout"
        }
      ]
    },
    {
      "metadata": {
        "colab_type": "text",
        "id": "c-Jk4dG91dvD"
      },
      "cell_type": "markdown",
      "source": [
        "## Train the model\n",
        "\n",
        "During training, the model takes in Celsius values, performs a calculation using the current internal variables (called \"weights\") and outputs values which are meant to be the Fahrenheit equivalent. Since the weights are intially set randomly, the output will not be close to the correct value. The difference between the actual output and the desired output is calculated using the loss function, and the optimizer function directs how the weights should be adjusted. \n",
        "\n",
        "This cycle of calculate, compare, adjust is controlled by the `fit` method. The first argument is the inputs, the second argument is the desired outputs. The `epochs` argument specifies how many times this cycle should be run, and the `verbose` argument controls how much output the method produces."
      ]
    },
    {
      "metadata": {
        "colab_type": "code",
        "id": "lpRrl7WK10Pq",
        "colab": {
          "base_uri": "https://localhost:8080/",
          "height": 34
        },
        "outputId": "220bbc2b-bf6f-4f2d-8a4f-7aaec4085283"
      },
      "cell_type": "code",
      "source": [
        "### Train the model\n",
        "history = model.fit(celsius_q, fahrenheit_a, epochs=500, verbose=False)\n",
        "\n",
        "print(\"Finished training the model\")"
      ],
      "execution_count": 44,
      "outputs": [
        {
          "output_type": "stream",
          "text": [
            "Finished training the model\n"
          ],
          "name": "stdout"
        }
      ]
    },
    {
      "metadata": {
        "colab_type": "text",
        "id": "0-QsNCLD4MJZ"
      },
      "cell_type": "markdown",
      "source": [
        "## Display training statistics\n",
        "\n",
        "The `fit` method returns a history object. I can use this object to plot how the loss of my model goes down after each training epoch. A high loss means that the Fahrenheit degrees the model predicts is far from the corresponding value in `fahrenheit_a`. \n",
        "\n",
        "I'll use 'Matplotlib' to visualize this . As you can see, my model improves very quickly at first, and then has a steady, slow improvement until it is very near \"perfect\" towards the end."
      ]
    },
    {
      "metadata": {
        "colab_type": "code",
        "id": "IeK6BzfbdO6_",
        "colab": {
          "base_uri": "https://localhost:8080/",
          "height": 378
        },
        "outputId": "25e3e5ad-d0a5-4ef5-8d3f-ebad297f15f9"
      },
      "cell_type": "code",
      "source": [
        "### Visualize the loss over the epochs\n",
        "plt.xlabel('Epoch Number')\n",
        "plt.ylabel(\"Loss Magnitude\")\n",
        "plt.plot(history.history['loss'])"
      ],
      "execution_count": 45,
      "outputs": [
        {
          "output_type": "execute_result",
          "data": {
            "text/plain": [
              "[<matplotlib.lines.Line2D at 0x7ff4597d1f28>]"
            ]
          },
          "metadata": {
            "tags": []
          },
          "execution_count": 45
        },
        {
          "output_type": "display_data",
          "data": {
            "image/png": "[encoded data removed]",
            "text/plain": [
              "<Figure size 576x396 with 1 Axes>"
            ]
          },
          "metadata": {
            "tags": []
          }
        }
      ]
    },
    {
      "metadata": {
        "colab_type": "text",
        "id": "LtQGDMob5LOD"
      },
      "cell_type": "markdown",
      "source": [
        "## Use the model to predict values\n",
        "\n",
        "Now that I have a model that has been trained to learn the relationship between `celsius_q` and `fahrenheit_a`. I can use the predict method to have it calculate the Fahrenheit degree for a previously unknown Celsius degree. "
      ]
    },
    {
      "metadata": {
        "colab_type": "code",
        "id": "oxNzL4lS2Gui",
        "colab": {
          "base_uri": "https://localhost:8080/",
          "height": 34
        },
        "outputId": "82642c2d-de6f-4a32-a74d-bb475c56b4cd"
      },
      "cell_type": "code",
      "source": [
        "### Get model predicions \n",
        "print(model.predict([100.0]))"
      ],
      "execution_count": 46,
      "outputs": [
        {
          "output_type": "stream",
          "text": [
            "[[211.2948]]\n"
          ],
          "name": "stdout"
        }
      ]
    },
    {
      "metadata": {
        "colab_type": "text",
        "id": "jApk6tZ1fBg1"
      },
      "cell_type": "markdown",
      "source": [
        "The correct answer is $100 \\times 1.8 + 32 = 212$, so my model is doing really well.\n",
        "\n",
        "### To review\n",
        "\n",
        "\n",
        "*   I created a model with a Dense layer\n",
        "*   I trained it with 3500 examples (7 pairs, over 500 epochs).\n",
        "\n",
        "The model tuned the variables (weights) in the Dense layer until it was able to return the correct Fahrenheit value for any Celsius value. (Remember, 100 Celsius was not part of the training data.)\n",
        "\n",
        "\n"
      ]
    },
    {
      "metadata": {
        "colab_type": "text",
        "id": "zRrOky5gm20Z"
      },
      "cell_type": "markdown",
      "source": [
        "## Looking at the layer weights\n",
        "\n",
        "Finally, let's print the internal variables of the Dense layer. "
      ]
    },
    {
      "metadata": {
        "colab_type": "code",
        "id": "kmIkVdkbnZJI",
        "colab": {
          "base_uri": "https://localhost:8080/",
          "height": 34
        },
        "outputId": "ade4c50e-e2ed-41ef-d31d-a4ef7d2947f1"
      },
      "cell_type": "code",
      "source": [
        "### Print the weights\n",
        "print(\"These are the layer variables: {}\".format(l0.get_weights()))"
      ],
      "execution_count": 47,
      "outputs": [
        {
          "output_type": "stream",
          "text": [
            "These are the layer variables: [array([[1.8263732]], dtype=float32), array([28.657463], dtype=float32)]\n"
          ],
          "name": "stdout"
        }
      ]
    },
    {
      "metadata": {
        "colab_type": "text",
        "id": "RSplSnMvnWC-"
      },
      "cell_type": "markdown",
      "source": [
        "The first variable is close to ~1.8 and the second to ~32. \n",
        "\n",
        "This is really close to the values in the conversion formula. "
      ]
    },
    {
      "metadata": {
        "colab_type": "code",
        "id": "Y2zTA-rDS5Xk",
        "colab": {
          "base_uri": "https://localhost:8080/",
          "height": 272
        },
        "outputId": "b0e3f91a-a646-4378-cd14-1440dc080436"
      },
      "cell_type": "code",
      "source": [
        "### Add more layers and nodes to the model\n",
        "l0 = tf.keras.layers.Dense(units=4, input_shape=[1])  \n",
        "l1 = tf.keras.layers.Dense(units=4)  \n",
        "l2 = tf.keras.layers.Dense(units=1)  \n",
        "\n",
        "model = tf.keras.Sequential([l0, l1, l2])\n",
        "model.compile(loss='mean_squared_error', optimizer=tf.keras.optimizers.Adam(0.1))\n",
        "model.fit(celsius_q, fahrenheit_a, epochs=500, verbose=False)\n",
        "\n",
        "print(\"Finished training the model: \", '\\n')\n",
        "\n",
        "print(model.predict([100.0]))\n",
        "print(\"Model predicts that 100 degrees Celsius is: {} degrees Fahrenheit.\".format(model.predict([100.0])))\n",
        "\n",
        "print(\"These are the l0 variables: {}\".format(l0.get_weights()))\n",
        "print(\"These are the l1 variables: {}\".format(l1.get_weights()))\n",
        "print(\"These are the l2 variables: {}\".format(l2.get_weights()))"
      ],
      "execution_count": 48,
      "outputs": [
        {
          "output_type": "stream",
          "text": [
            "Finished training the model:  \n",
            "\n",
            "[[211.74744]]\n",
            "Model predicts that 100 degrees Celsius is: [[211.74744]] degrees Fahrenheit.\n",
            "These are the l0 variables: [array([[-0.23374876, -0.11311455,  0.5360384 , -0.11421468]],\n",
            "      dtype=float32), array([-3.2842505, -1.0320085,  3.4192286,  3.0376196], dtype=float32)]\n",
            "These are the l1 variables: [array([[ 0.27908605, -0.6084972 , -0.74578243, -0.23570512],\n",
            "       [-0.5034305 , -0.17023431,  0.07804974,  0.33429882],\n",
            "       [ 1.0468805 ,  0.8450096 ,  0.98596704,  0.40965956],\n",
            "       [ 0.2968336 ,  0.6441581 ,  0.18454526, -0.41086185]],\n",
            "      dtype=float32), array([3.130781 , 3.4650824, 3.5085223, 3.3365965], dtype=float32)]\n",
            "These are the l2 variables: [array([[1.0429417],\n",
            "       [1.0874474],\n",
            "       [0.7837027],\n",
            "       [0.4972928]], dtype=float32), array([3.3896282], dtype=float32)]\n"
          ],
          "name": "stdout"
        }
      ]
    },
    {
      "metadata": {
        "colab_type": "text",
        "id": "xrpFFlgYhCty"
      },
      "cell_type": "markdown",
      "source": [
        "As you can see, this model is also able to predict the corresponding Fahrenheit value really well. But when you look at the variables (weights) in the `l0` and `l1` layers, they are nothing even close to ~1.8 and ~32. The added complexity hides the \"simple\" form of the conversion equation."
      ]
    }
  ]
}